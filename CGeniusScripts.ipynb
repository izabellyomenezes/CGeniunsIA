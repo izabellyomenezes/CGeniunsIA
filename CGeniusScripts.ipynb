{
  "nbformat": 4,
  "nbformat_minor": 0,
  "metadata": {
    "colab": {
      "provenance": []
    },
    "kernelspec": {
      "name": "python3",
      "display_name": "Python 3"
    },
    "language_info": {
      "name": "python"
    }
  },
  "cells": [
    {
      "cell_type": "code",
      "execution_count": null,
      "metadata": {
        "id": "-e5m0GRgjiea"
      },
      "outputs": [],
      "source": [
        "!pip install -U google-generativeai"
      ]
    },
    {
      "cell_type": "code",
      "source": [
        "import google.generativeai as genai\n",
        "from google.colab import userdata"
      ],
      "metadata": {
        "id": "Oacv0GdtlXiN"
      },
      "execution_count": null,
      "outputs": []
    },
    {
      "cell_type": "code",
      "source": [
        "GOOGLE_API_KEY=userdata.get('GOOGLE_API_KEY')\n",
        "genai.configure(api_key=GOOGLE_API_KEY)"
      ],
      "metadata": {
        "id": "dRCLxvq3loue"
      },
      "execution_count": null,
      "outputs": []
    },
    {
      "cell_type": "markdown",
      "source": [
        "VERSÕES GEMINI:"
      ],
      "metadata": {
        "id": "5BUYRVf5pgNC"
      }
    },
    {
      "cell_type": "code",
      "source": [
        "for m in genai.list_models():\n",
        "  if 'generateContent' in m.supported_generation_methods:\n",
        "    print(m.name)"
      ],
      "metadata": {
        "colab": {
          "base_uri": "https://localhost:8080/",
          "height": 156
        },
        "id": "8pAwR-Cjl75-",
        "outputId": "0b938dad-b973-4efd-a043-394e832f2326"
      },
      "execution_count": null,
      "outputs": [
        {
          "output_type": "stream",
          "name": "stdout",
          "text": [
            "models/gemini-1.0-pro\n",
            "models/gemini-1.0-pro-001\n",
            "models/gemini-1.0-pro-latest\n",
            "models/gemini-1.0-pro-vision-latest\n",
            "models/gemini-1.5-flash-latest\n",
            "models/gemini-1.5-pro-latest\n",
            "models/gemini-pro\n",
            "models/gemini-pro-vision\n"
          ]
        }
      ]
    },
    {
      "cell_type": "code",
      "source": [
        "model = genai.GenerativeModel('gemini-pro')"
      ],
      "metadata": {
        "id": "uTKVofprmLdo"
      },
      "execution_count": null,
      "outputs": []
    },
    {
      "cell_type": "markdown",
      "source": [
        "GERANDO SCRIPT"
      ],
      "metadata": {
        "id": "QpLVkd7CpuMb"
      }
    },
    {
      "cell_type": "code",
      "source": [
        "%%time\n",
        "response = model.generate_content('Me descreva um script para uma venda de telemarketing')"
      ],
      "metadata": {
        "id": "QOPXSlYlmUDi",
        "outputId": "7a9d80ae-b5d7-4d36-9890-80840d85214b",
        "colab": {
          "base_uri": "https://localhost:8080/",
          "height": 52
        }
      },
      "execution_count": null,
      "outputs": [
        {
          "output_type": "stream",
          "name": "stdout",
          "text": [
            "CPU times: user 119 ms, sys: 20.4 ms, total: 140 ms\n",
            "Wall time: 8.01 s\n"
          ]
        }
      ]
    },
    {
      "cell_type": "code",
      "source": [
        "print('Resposta: ', response.text)"
      ],
      "metadata": {
        "id": "DBsmy3yGnIJV",
        "outputId": "5cf2d040-c1e2-408f-8416-a4eeeb05350b",
        "colab": {
          "base_uri": "https://localhost:8080/"
        }
      },
      "execution_count": null,
      "outputs": [
        {
          "output_type": "stream",
          "name": "stdout",
          "text": [
            "Resposta:  **Introdução**\n",
            "\n",
            "* \"Olá, meu nome é [seu nome] e estou ligando da [nome da empresa]. Como você está hoje?\"\n",
            "* \"Obrigado por atender. Meu objetivo é ajudá-lo com suas necessidades de [produto/serviço].\"\n",
            "\n",
            "**Qualificação**\n",
            "\n",
            "* \"Estou ligando para verificar se você está satisfeito com seu [produto/serviço] atual.\"\n",
            "* \"Você pode me fornecer algumas informações básicas para que eu possa entender melhor suas necessidades?\"\n",
            "\n",
            "**Apresentação do Produto/Serviço**\n",
            "\n",
            "* \"Com base nas suas informações, gostaria de apresentar nosso [produto/serviço] que pode resolver seus problemas com [problema específico].\"\n",
            "* \"Aqui estão os principais benefícios e recursos do nosso [produto/serviço]:\n",
            "    * [Recurso 1]\n",
            "    * [Recurso 2]\n",
            "    * [Recurso 3]\"\n",
            "\n",
            "**Superação de Objeções**\n",
            "\n",
            "* \"Entendo que você possa ter algumas dúvidas. Deixe-me abordar algumas das preocupações comuns:\"\n",
            "* \"[Responda a objeções comuns com evidências e depoimentos]\"\n",
            "\n",
            "**Fechamento**\n",
            "\n",
            "* \"Com base no que discutimos, acredito que nosso [produto/serviço] é a solução perfeita para suas necessidades.\"\n",
            "* \"Gostaria de oferecer um [desconto/promoção] exclusivo para novos clientes. Este é um desconto limitado no tempo, portanto, não perca.\"\n",
            "* \"Posso prosseguir com o pedido ou você gostaria de mais informações?\"\n",
            "\n",
            "**Chamada para Ação**\n",
            "\n",
            "* \"Para aproveitar esta oferta, por favor, forneça suas informações de contato e método de pagamento.\"\n",
            "* \"Obrigado por seu tempo. Aguardamos a oportunidade de atendê-lo.\"\n",
            "\n",
            "**Seguimento**\n",
            "\n",
            "* \"Enviarei um e-mail de confirmação com os detalhes do pedido.\"\n",
            "* \"Um de nossos representantes entrará em contato com você em breve para agendar a entrega/instalação.\"\n"
          ]
        }
      ]
    }
  ]
}